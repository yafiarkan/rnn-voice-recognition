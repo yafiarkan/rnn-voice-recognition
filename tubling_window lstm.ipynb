{
 "cells": [
  {
   "cell_type": "code",
   "execution_count": 1,
   "metadata": {},
   "outputs": [
    {
     "name": "stderr",
     "output_type": "stream",
     "text": [
      "Using TensorFlow backend.\n"
     ]
    }
   ],
   "source": [
    "import librosa\n",
    "import keras\n",
    "import os\n",
    "import numpy as np\n",
    "import scipy.io.wavfile as wav\n",
    "import python_speech_features\n",
    "from keras.utils import to_categorical\n",
    "import matplotlib.pyplot as plt\n",
    "import math\n",
    "from sklearn.metrics import confusion_matrix"
   ]
  },
  {
   "cell_type": "code",
   "execution_count": 2,
   "metadata": {},
   "outputs": [],
   "source": [
    "conf = []\n",
    "mtrx = np.arange(9).reshape(3, 3) - np.arange(9).reshape(3, 3)\n",
    "posisi = [\"nyala awal\", \"mati awal\",\"nyala tengah\",\"mati tengah\",\"nyala akhir\",\"mati akhir\",\"multi\"]"
   ]
  },
  {
   "cell_type": "code",
   "execution_count": 3,
   "metadata": {},
   "outputs": [],
   "source": [
    "file = 0\n",
    "no_path = 42\n",
    "num = 2\n",
    "matrix =  np.arange(9).reshape(3, 3) - np.arange(9).reshape(3, 3)"
   ]
  },
  {
   "cell_type": "code",
   "execution_count": 62,
   "metadata": {},
   "outputs": [
    {
     "name": "stdout",
     "output_type": "stream",
     "text": [
      "11.9815\n"
     ]
    }
   ],
   "source": [
    "path = \"cut/\"+str(no_path)+\"_uji 1.wav\"\n",
    "koef_mfcc = 7\n",
    "audio, sfreq = librosa.load(path, sr=16000)\n",
    "audio_duration =  librosa.get_duration(audio, sr=sfreq)\n",
    "print(audio_duration)\n",
    "\n",
    "no_path = no_path+1"
   ]
  },
  {
   "cell_type": "code",
   "execution_count": 63,
   "metadata": {},
   "outputs": [],
   "source": [
    "def extract_data_test(start_duration, end_duration,i):\n",
    "    path_new = \"potongan/yafi\"+str(i)+\".wav\"\n",
    "    song = AudioSegment.from_file(path)\n",
    "    song = song.set_frame_rate(16000)\n",
    "    extract = song[start_duration*1000:end_duration*1000]\n",
    "    extract.export(path_new, format=\"wav\")\n",
    "    #load wav\n",
    "    sfreq, audio = wav.read(path_new)\n",
    "    #normalisasi amplitudo\n",
    "    #audio_x = 2.*(audio - np.min(audio))/np.ptp(audio)-1\n",
    "    mfcc = python_speech_features.base.mfcc(audio,samplerate=16000,winlen=0.02,winstep=0.01,numcep=koef_mfcc,nfft=512,preemph=0.95,winfunc=np.hamming)\n",
    "    #print(mfcc.shape)\n",
    "    return mfcc"
   ]
  },
  {
   "cell_type": "code",
   "execution_count": 65,
   "metadata": {},
   "outputs": [],
   "source": [
    "def create_model_lstm():\n",
    "    model = keras.models.Sequential([\n",
    "            keras.layers.LSTM(15, return_sequences=True, input_shape=[None, koef_mfcc]),\n",
    "            keras.layers.LSTM(15),\n",
    "            keras.layers.Dense(3, activation='softmax')\n",
    "            ])\n",
    "    return model"
   ]
  },
  {
   "cell_type": "code",
   "execution_count": 66,
   "metadata": {},
   "outputs": [],
   "source": [
    "model = create_model_lstm()\n",
    "model.load_weights(\"lstm_model_koef_\"+str(koef_mfcc)+\".h5\")"
   ]
  },
  {
   "cell_type": "code",
   "execution_count": 67,
   "metadata": {},
   "outputs": [
    {
     "name": "stdout",
     "output_type": "stream",
     "text": [
      "6\n"
     ]
    }
   ],
   "source": [
    "if file > 6:\n",
    "    file = 0\n",
    "else: file = file\n",
    "print(file)\n",
    "y_true=[]\n",
    "if posisi[file] == \"nyala awal\":\n",
    "    y_true = [0,2,2,2,2]\n",
    "elif posisi[file] == \"nyala tengah\":\n",
    "    y_true = [2,0,2,2,2,2]\n",
    "elif posisi[file] ==  \"nyala akhir\":\n",
    "    y_true = [2,2,2,2,2,0]\n",
    "elif posisi[file] == \"mati awal\":\n",
    "    y_true = [1,2,2,2,2]\n",
    "elif posisi[file] == \"mati tengah\":\n",
    "    y_true = [2,1,2,2,2,2]\n",
    "elif posisi[file] ==  \"mati akhir\":\n",
    "    y_true = [2,2,2,2,2,1]\n",
    "else:\n",
    "    y_true = [2,0,2,2,2,2,2,1,2,2,2,2]\n",
    "y_pred=[]\n",
    "hasil=[]\n",
    "file = file+1"
   ]
  },
  {
   "cell_type": "code",
   "execution_count": 68,
   "metadata": {},
   "outputs": [
    {
     "name": "stdout",
     "output_type": "stream",
     "text": [
      "detik :0-1.15 =lain\n",
      "detik :0.99-2.15 =nyala\n",
      "detik :1.99-3.15 =lain\n",
      "detik :2.99-4.15 =lain\n",
      "detik :3.99-5.15 =lain\n",
      "detik :4.99-6.15 =lain\n",
      "detik :5.99-7.15 =lain\n",
      "detik :6.99-8.15 =mati\n",
      "detik :7.99-9.15 =lain\n",
      "detik :8.99-10.15 =lain\n",
      "detik :9.99-11.15 =lain\n",
      "detik :10.99-11.9815 =lain\n"
     ]
    }
   ],
   "source": [
    "kelas = [\"nyala\", \"mati\", \"lain\"]\n",
    "for i in range(1, math.ceil(audio_duration)+1):\n",
    "    end_duration = i\n",
    "    start_duration = i-1\n",
    "    \n",
    "    end_duration += 0.15\n",
    "    start_duration-=0.01\n",
    "    \n",
    "    if start_duration<0 : start_duration = 0\n",
    "    \n",
    "    if end_duration>audio_duration : end_duration = audio_duration\n",
    "    \n",
    "\n",
    "    if end_duration>audio_duration : end_duration=audio_duration\n",
    "    \n",
    "    audio = extract_data_test(start_duration, end_duration)\n",
    "    shape = audio.shape\n",
    "    audio_p = audio.reshape(1, shape[0], shape[1])\n",
    "    hasil = model.predict(audio_p)\n",
    "    inhasil = np.argmax(hasil)\n",
    "    y_pred.append(inhasil)\n",
    "    print(\"detik :\"+str(start_duration)+\"-\"+str(end_duration)+\" =\"+ kelas[inhasil])\n",
    "        "
   ]
  },
  {
   "cell_type": "code",
   "execution_count": 69,
   "metadata": {},
   "outputs": [
    {
     "name": "stdout",
     "output_type": "stream",
     "text": [
      "[2, 0, 2, 2, 2, 2, 2, 1, 2, 2, 2, 2]\n",
      "[2, 0, 2, 2, 2, 2, 2, 1, 2, 2, 2, 2]\n"
     ]
    }
   ],
   "source": [
    "print(y_true)\n",
    "print(y_pred)"
   ]
  },
  {
   "cell_type": "code",
   "execution_count": 70,
   "metadata": {},
   "outputs": [
    {
     "data": {
      "text/plain": [
       "array([[ 1,  0,  0],\n",
       "       [ 0,  1,  0],\n",
       "       [ 0,  0, 10]], dtype=int64)"
      ]
     },
     "execution_count": 70,
     "metadata": {},
     "output_type": "execute_result"
    }
   ],
   "source": [
    "confusion_matrix(y_true, y_pred, labels =[0,1,2])"
   ]
  },
  {
   "cell_type": "code",
   "execution_count": 71,
   "metadata": {},
   "outputs": [
    {
     "name": "stdout",
     "output_type": "stream",
     "text": [
      "[[ 4  0  0]\n",
      " [ 0  4  0]\n",
      " [ 0  0 38]]\n"
     ]
    }
   ],
   "source": [
    "matrix = matrix + confusion_matrix(y_true, y_pred, labels =[0,1,2])\n",
    "print(matrix)"
   ]
  },
  {
   "cell_type": "code",
   "execution_count": 72,
   "metadata": {},
   "outputs": [],
   "source": [
    "from numpy import asarray\n",
    "from numpy import savetxt\n",
    "savetxt(\"lstm 13 \"+str(num)+'.csv',matrix,delimiter = '/')"
   ]
  },
  {
   "cell_type": "code",
   "execution_count": 73,
   "metadata": {},
   "outputs": [],
   "source": [
    "def counts_from_confusion(confusion):\n",
    "    \"\"\"\n",
    "    Obtain TP, FN FP, and TN for each class in the confusion matrix\n",
    "    \"\"\"\n",
    "\n",
    "    counts_list = []\n",
    "\n",
    "    # Iterate through classes and store the counts\n",
    "    for i in range(confusion.shape[0]):\n",
    "        tp = confusion[i, i]\n",
    "\n",
    "        fn_mask = np.zeros(confusion.shape)\n",
    "        fn_mask[i, :] = 1\n",
    "        fn_mask[i, i] = 0\n",
    "        fn = np.sum(np.multiply(confusion, fn_mask))\n",
    "\n",
    "        fp_mask = np.zeros(confusion.shape)\n",
    "        fp_mask[:, i] = 1\n",
    "        fp_mask[i, i] = 0\n",
    "        fp = np.sum(np.multiply(confusion, fp_mask))\n",
    "\n",
    "        tn_mask = 1 - (fn_mask + fp_mask)\n",
    "        tn_mask[i, i] = 0\n",
    "        tn = np.sum(np.multiply(confusion, tn_mask))\n",
    "\n",
    "        counts_list.append({'Class': i,\n",
    "                            'TP': tp,\n",
    "                            'FN': fn,\n",
    "                            'FP': fp,\n",
    "                            'TN': tn})\n",
    "\n",
    "    return counts_list"
   ]
  },
  {
   "cell_type": "code",
   "execution_count": 74,
   "metadata": {},
   "outputs": [
    {
     "data": {
      "text/plain": [
       "[{'Class': 0, 'TP': 4, 'FN': 0.0, 'FP': 0.0, 'TN': 42.0},\n",
       " {'Class': 1, 'TP': 4, 'FN': 0.0, 'FP': 0.0, 'TN': 42.0},\n",
       " {'Class': 2, 'TP': 38, 'FN': 0.0, 'FP': 0.0, 'TN': 8.0}]"
      ]
     },
     "execution_count": 74,
     "metadata": {},
     "output_type": "execute_result"
    }
   ],
   "source": [
    "counts_from_confusion(matrix)"
   ]
  },
  {
   "cell_type": "code",
   "execution_count": 75,
   "metadata": {},
   "outputs": [],
   "source": [
    "savetxt(\"lstm 13 conf\"+str(num)+'.csv',counts_from_confusion(matrix),delimiter = '/', fmt='%s')"
   ]
  },
  {
   "cell_type": "code",
   "execution_count": 76,
   "metadata": {},
   "outputs": [
    {
     "data": {
      "text/plain": [
       "array([[ 0,  0,  0],\n",
       "       [ 0,  0,  0],\n",
       "       [ 0,  0,  0],\n",
       "       [ 4,  0,  0],\n",
       "       [ 0,  4,  0],\n",
       "       [ 0,  0, 38]], dtype=int64)"
      ]
     },
     "execution_count": 76,
     "metadata": {},
     "output_type": "execute_result"
    }
   ],
   "source": [
    "mtrx = np.append(mtrx,matrix)\n",
    "mtrx.reshape(int(len(mtrx)/3),3)"
   ]
  },
  {
   "cell_type": "code",
   "execution_count": 77,
   "metadata": {},
   "outputs": [
    {
     "data": {
      "text/plain": [
       "(6, 3)"
      ]
     },
     "execution_count": 77,
     "metadata": {},
     "output_type": "execute_result"
    }
   ],
   "source": [
    "mtrx.reshape(int(len(mtrx)/3),3).shape"
   ]
  },
  {
   "cell_type": "code",
   "execution_count": 78,
   "metadata": {},
   "outputs": [],
   "source": [
    "savetxt(\"lstm 13.csv\",mtrx.reshape(int(len(mtrx)/3),3),delimiter = '/')"
   ]
  },
  {
   "cell_type": "code",
   "execution_count": 16,
   "metadata": {},
   "outputs": [],
   "source": [
    "import os\n",
    "no_path = []"
   ]
  },
  {
   "cell_type": "code",
   "execution_count": 17,
   "metadata": {},
   "outputs": [],
   "source": [
    "for file in os.listdir(\"cut/\"):\n",
    "    no_path.append(file.split(\"_\")[0])"
   ]
  },
  {
   "cell_type": "code",
   "execution_count": 18,
   "metadata": {},
   "outputs": [
    {
     "data": {
      "text/plain": [
       "['100',\n",
       " '101',\n",
       " '102',\n",
       " '103',\n",
       " '104',\n",
       " '105',\n",
       " '106',\n",
       " '107',\n",
       " '28',\n",
       " '29',\n",
       " '30',\n",
       " '31',\n",
       " '32',\n",
       " '33',\n",
       " '34',\n",
       " '36',\n",
       " '37',\n",
       " '38',\n",
       " '39',\n",
       " '40',\n",
       " '41',\n",
       " '42',\n",
       " '43',\n",
       " '44',\n",
       " '45',\n",
       " '46',\n",
       " '47',\n",
       " '48',\n",
       " '49',\n",
       " '50',\n",
       " '51',\n",
       " '52',\n",
       " '53',\n",
       " '54',\n",
       " '55',\n",
       " '56',\n",
       " '57',\n",
       " '58',\n",
       " '59',\n",
       " '60',\n",
       " '61',\n",
       " '62',\n",
       " '63',\n",
       " '64',\n",
       " '65',\n",
       " '66',\n",
       " '67',\n",
       " '68',\n",
       " '69',\n",
       " '70',\n",
       " '71',\n",
       " '72',\n",
       " '73',\n",
       " '74',\n",
       " '75',\n",
       " '76',\n",
       " '77',\n",
       " '87',\n",
       " '88',\n",
       " '89',\n",
       " '90',\n",
       " '91',\n",
       " '92',\n",
       " '93',\n",
       " '94',\n",
       " '95',\n",
       " '96',\n",
       " '97',\n",
       " '98',\n",
       " '99']"
      ]
     },
     "execution_count": 18,
     "metadata": {},
     "output_type": "execute_result"
    }
   ],
   "source": [
    "no_path"
   ]
  },
  {
   "cell_type": "code",
   "execution_count": null,
   "metadata": {},
   "outputs": [],
   "source": []
  }
 ],
 "metadata": {
  "kernelspec": {
   "display_name": "Python 3",
   "language": "python",
   "name": "python3"
  },
  "language_info": {
   "codemirror_mode": {
    "name": "ipython",
    "version": 3
   },
   "file_extension": ".py",
   "mimetype": "text/x-python",
   "name": "python",
   "nbconvert_exporter": "python",
   "pygments_lexer": "ipython3",
   "version": "3.6.5"
  }
 },
 "nbformat": 4,
 "nbformat_minor": 2
}
